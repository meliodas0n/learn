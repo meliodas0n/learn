{
 "cells": [
  {
   "cell_type": "code",
   "execution_count": 1,
   "id": "48e416bc",
   "metadata": {},
   "outputs": [
    {
     "name": "stdout",
     "output_type": "stream",
     "text": [
      "Hello, World, in Javascript in a jupyter notebook on VSCode\n"
     ]
    }
   ],
   "source": [
    "console.log(\"Hello, World, in Javascript in a jupyter notebook on VSCode\")"
   ]
  },
  {
   "cell_type": "code",
   "execution_count": null,
   "id": "64e8171a",
   "metadata": {},
   "outputs": [],
   "source": []
  }
 ],
 "metadata": {
  "kernelspec": {
   "display_name": "JavaScript (Node.js)",
   "language": "javascript",
   "name": "javascript"
  },
  "language_info": {
   "file_extension": ".js",
   "mimetype": "application/javascript",
   "name": "javascript",
   "version": "18.19.1"
  }
 },
 "nbformat": 4,
 "nbformat_minor": 5
}
