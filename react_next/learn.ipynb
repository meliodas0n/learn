{
 "cells": [
  {
   "cell_type": "code",
   "execution_count": 1,
   "id": "48e416bc",
   "metadata": {},
   "outputs": [
    {
     "name": "stdout",
     "output_type": "stream",
     "text": [
      "Hello, World, in Javascript in a jupyter notebook on VSCode\n"
     ]
    }
   ],
   "source": [
    "console.log(\"Hello, World, in Javascript in a jupyter notebook on VSCode\")"
   ]
  },
  {
   "cell_type": "code",
   "execution_count": null,
   "id": "64e8171a",
   "metadata": {},
   "outputs": [],
   "source": [
    "function header() {\n",
    "  return (<h1>Develop. Preview. Ship</h1>)\n",
    "}"
   ]
  },
  {
   "cell_type": "code",
   "execution_count": null,
   "id": "e22e6a76",
   "metadata": {},
   "outputs": [],
   "source": [
    "<script type=\"text/jsx\">\n",
    "  const app = document.getElementById(\"app\");\n",
    "\n",
    "  function header() {\n",
    "    return (<h1>Develop. Preview. Ship</h1>)\n",
    "  }\n",
    "\n",
    "  const root = ReactDOM.createRoot(app)\n",
    "  root.render(header)\n",
    "</script>"
   ]
  },
  {
   "cell_type": "code",
   "execution_count": 1,
   "id": "474ebd42",
   "metadata": {},
   "outputs": [
    {
     "ename": "SyntaxError",
     "evalue": "Unexpected token '<'",
     "output_type": "error",
     "traceback": [
      "evalmachine.<anonymous>:2",
      "  return <h1>Develop. Preview. Ship</h1>",
      "         ^",
      "",
      "SyntaxError: Unexpected token '<'",
      "    at new Script (node:vm:94:7)",
      "    at createScript (node:vm:250:10)",
      "    at Object.runInThisContext (node:vm:298:10)",
      "    at run ([eval]:1020:15)",
      "    at onRunRequest ([eval]:864:18)",
      "    at onMessage ([eval]:828:13)",
      "    at process.emit (node:events:517:28)",
      "    at emit (node:internal/child_process:944:14)",
      "    at process.processTicksAndRejections (node:internal/process/task_queues:83:21)"
     ]
    }
   ],
   "source": [
    "function Header() {\n",
    "  return <h1>Develop. Preview. Ship</h1>\n",
    "}\n",
    "\n",
    "const root = ReactDOM.createRoot(app)\n",
    "root.render(Header)"
   ]
  },
  {
   "cell_type": "code",
   "execution_count": null,
   "id": "60bd0e64",
   "metadata": {},
   "outputs": [
    {
     "ename": "SyntaxError",
     "evalue": "Unexpected token '<'",
     "output_type": "error",
     "traceback": [
      "evalmachine.<anonymous>:2",
      "  return <h1>Develop. Preview. Ship</h1>",
      "         ^",
      "",
      "SyntaxError: Unexpected token '<'",
      "    at new Script (node:vm:94:7)",
      "    at createScript (node:vm:250:10)",
      "    at Object.runInThisContext (node:vm:298:10)",
      "    at run ([eval]:1020:15)",
      "    at onRunRequest ([eval]:864:18)",
      "    at onMessage ([eval]:828:13)",
      "    at process.emit (node:events:517:28)",
      "    at emit (node:internal/child_process:944:14)",
      "    at process.processTicksAndRejections (node:internal/process/task_queues:83:21)"
     ]
    }
   ],
   "source": [
    "function Header() {\n",
    "  return <h1>Develop. Preview. Ship</h1>\n",
    "}\n",
    "\n",
    "const root = ReactDOM.createRoot(app)\n",
    "root.render(<Header />)"
   ]
  },
  {
   "cell_type": "code",
   "execution_count": null,
   "id": "c2bb652c",
   "metadata": {},
   "outputs": [],
   "source": [
    "function Header() {\n",
    "  return <h1>Develop. Preview. Ship</h1>\n",
    "}\n",
    "\n",
    "function HomePage() {\n",
    "  return (\n",
    "    <div>\n",
    "      <Header />\n",
    "    </div>\n",
    "  )\n",
    "}\n",
    "\n",
    "const root = ReactDOM.createRoot(app)\n",
    "root.render(<Header />)"
   ]
  },
  {
   "cell_type": "code",
   "execution_count": null,
   "id": "d6e94b22",
   "metadata": {},
   "outputs": [
    {
     "ename": "SyntaxError",
     "evalue": "Unexpected token '<'",
     "output_type": "error",
     "traceback": [
      "evalmachine.<anonymous>:3",
      "    <div>",
      "    ^",
      "",
      "SyntaxError: Unexpected token '<'",
      "    at new Script (node:vm:94:7)",
      "    at createScript (node:vm:250:10)",
      "    at Object.runInThisContext (node:vm:298:10)",
      "    at run ([eval]:1020:15)",
      "    at onRunRequest ([eval]:864:18)",
      "    at onMessage ([eval]:828:13)",
      "    at process.emit (node:events:517:28)",
      "    at emit (node:internal/child_process:944:14)",
      "    at process.processTicksAndRejections (node:internal/process/task_queues:83:21)"
     ]
    }
   ],
   "source": [
    "function HomePage() {\n",
    "  return (\n",
    "    <div>\n",
    "      <Header title=\"React\" />\n",
    "    </div>\n",
    "  )\n",
    "}\n",
    "\n",
    "function Header({ props }) {\n",
    "  console.log(props)\n",
    "  return <h1>Props</h1>\n",
    "}"
   ]
  },
  {
   "cell_type": "code",
   "execution_count": null,
   "id": "afc9ee17",
   "metadata": {},
   "outputs": [],
   "source": []
  },
  {
   "cell_type": "code",
   "execution_count": null,
   "id": "c7b5dbff",
   "metadata": {},
   "outputs": [],
   "source": []
  }
 ],
 "metadata": {
  "kernelspec": {
   "display_name": "JavaScript (Node.js)",
   "language": "javascript",
   "name": "javascript"
  },
  "language_info": {
   "file_extension": ".js",
   "mimetype": "application/javascript",
   "name": "javascript",
   "version": "18.19.1"
  }
 },
 "nbformat": 4,
 "nbformat_minor": 5
}
