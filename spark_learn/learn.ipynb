{
 "cells": [
  {
   "cell_type": "code",
   "execution_count": 1,
   "id": "2df0aafe-fa72-4aff-8df9-6b57bc8e47b7",
   "metadata": {},
   "outputs": [
    {
     "name": "stderr",
     "output_type": "stream",
     "text": [
      "24/10/31 00:23:30 WARN Utils: Your hostname, LostVayne resolves to a loopback address: 127.0.1.1; using 192.168.0.102 instead (on interface enp92s0)\n",
      "24/10/31 00:23:30 WARN Utils: Set SPARK_LOCAL_IP if you need to bind to another address\n",
      "Setting default log level to \"WARN\".\n",
      "To adjust logging level use sc.setLogLevel(newLevel). For SparkR, use setLogLevel(newLevel).\n",
      "24/10/31 00:23:30 WARN NativeCodeLoader: Unable to load native-hadoop library for your platform... using builtin-java classes where applicable\n"
     ]
    }
   ],
   "source": [
    "from pyspark.sql import SparkSession\n",
    "import pyspark.sql.functions as F\n",
    "\n",
    "spark = SparkSession.Builder().appName(\"lets_test\").config(\"spark.driver.memory\", \"16g\").enableHiveSupport().getOrCreate()"
   ]
  },
  {
   "cell_type": "code",
   "execution_count": 2,
   "id": "442faf23",
   "metadata": {},
   "outputs": [
    {
     "name": "stdout",
     "output_type": "stream",
     "text": [
      "+----+--------------------+--------+----+------------+--------------------+--------+--------+--------+-----------+------------+\n",
      "|rank|                name|platform|year|       genre|           publisher|na_sales|eu_sales|jp_sales|other_sales|global_sales|\n",
      "+----+--------------------+--------+----+------------+--------------------+--------+--------+--------+-----------+------------+\n",
      "|   1|          Wii Sports|     Wii|2006|      Sports|            Nintendo|   41.49|   29.02|    3.77|       8.46|       82.74|\n",
      "|   2|   Super Mario Bros.|     NES|1985|    Platform|            Nintendo|   29.08|    3.58|    6.81|       0.77|       40.24|\n",
      "|   3|      Mario Kart Wii|     Wii|2008|      Racing|            Nintendo|   15.85|   12.88|    3.79|       3.31|       35.82|\n",
      "|   4|   Wii Sports Resort|     Wii|2009|      Sports|            Nintendo|   15.75|   11.01|    3.28|       2.96|          33|\n",
      "|   5|Pokemon Red/Pokem...|      GB|1996|Role-Playing|            Nintendo|   11.27|    8.89|   10.22|          1|       31.37|\n",
      "|   6|              Tetris|      GB|1989|      Puzzle|            Nintendo|    23.2|    2.26|    4.22|       0.58|       30.26|\n",
      "|   7|New Super Mario B...|      DS|2006|    Platform|            Nintendo|   11.38|    9.23|     6.5|        2.9|       30.01|\n",
      "|   8|            Wii Play|     Wii|2006|        Misc|            Nintendo|   14.03|     9.2|    2.93|       2.85|       29.02|\n",
      "|   9|New Super Mario B...|     Wii|2009|    Platform|            Nintendo|   14.59|    7.06|     4.7|       2.26|       28.62|\n",
      "|  10|           Duck Hunt|     NES|1984|     Shooter|            Nintendo|   26.93|    0.63|    0.28|       0.47|       28.31|\n",
      "|  11|          Nintendogs|      DS|2005|  Simulation|            Nintendo|    9.07|      11|    1.93|       2.75|       24.76|\n",
      "|  12|       Mario Kart DS|      DS|2005|      Racing|            Nintendo|    9.81|    7.57|    4.13|       1.92|       23.42|\n",
      "|  13|Pokemon Gold/Poke...|      GB|1999|Role-Playing|            Nintendo|       9|    6.18|     7.2|       0.71|        23.1|\n",
      "|  14|             Wii Fit|     Wii|2007|      Sports|            Nintendo|    8.94|    8.03|     3.6|       2.15|       22.72|\n",
      "|  15|        Wii Fit Plus|     Wii|2009|      Sports|            Nintendo|    9.09|    8.59|    2.53|       1.79|          22|\n",
      "|  16|  Kinect Adventures!|    X360|2010|        Misc|Microsoft Game St...|   14.97|    4.94|    0.24|       1.67|       21.82|\n",
      "|  17|  Grand Theft Auto V|     PS3|2013|      Action|Take-Two Interactive|    7.01|    9.27|    0.97|       4.14|        21.4|\n",
      "|  18|Grand Theft Auto:...|     PS2|2004|      Action|Take-Two Interactive|    9.43|     0.4|    0.41|      10.57|       20.81|\n",
      "|  19|   Super Mario World|    SNES|1990|    Platform|            Nintendo|   12.78|    3.75|    3.54|       0.55|       20.61|\n",
      "|  20|Brain Age: Train ...|      DS|2005|        Misc|            Nintendo|    4.75|    9.26|    4.16|       2.05|       20.22|\n",
      "+----+--------------------+--------+----+------------+--------------------+--------+--------+--------+-----------+------------+\n",
      "only showing top 20 rows\n",
      "\n"
     ]
    }
   ],
   "source": [
    "df = spark.read.csv(\"vgsales.csv\", header=True)\n",
    "df = df.select(*[F.col(x).alias(x.lower()) for x in df.columns])\n",
    "df.show()"
   ]
  },
  {
   "cell_type": "code",
   "execution_count": 3,
   "id": "b1d886f0",
   "metadata": {},
   "outputs": [
    {
     "name": "stderr",
     "output_type": "stream",
     "text": [
      "24/10/31 00:23:35 WARN HiveConf: HiveConf of name hive.stats.jdbc.timeout does not exist\n",
      "24/10/31 00:23:35 WARN HiveConf: HiveConf of name hive.stats.retries.wait does not exist\n",
      "24/10/31 00:23:35 WARN HiveConf: HiveConf of name hive.stats.jdbc.timeout does not exist\n",
      "24/10/31 00:23:35 WARN HiveConf: HiveConf of name hive.stats.retries.wait does not exist\n",
      "24/10/31 00:23:35 WARN HiveConf: HiveConf of name hive.stats.jdbc.timeout does not exist\n",
      "24/10/31 00:23:35 WARN HiveConf: HiveConf of name hive.stats.retries.wait does not exist\n",
      "24/10/31 00:23:36 WARN ObjectStore: Failed to get database global_temp, returning NoSuchObjectException\n",
      "24/10/31 00:25:30 WARN SessionState: METASTORE_FILTER_HOOK will be ignored, since hive.security.authorization.manager is set to instance of HiveAuthorizerFactory.\n",
      "24/10/31 00:25:30 WARN HiveConf: HiveConf of name hive.internal.ss.authz.settings.applied.marker does not exist\n",
      "24/10/31 00:25:30 WARN HiveConf: HiveConf of name hive.stats.jdbc.timeout does not exist\n",
      "24/10/31 00:25:30 WARN HiveConf: HiveConf of name hive.stats.retries.wait does not exist\n"
     ]
    }
   ],
   "source": [
    "df.repartition(12).write.mode(\"overwrite\").partitionBy(\"genre\", \"year\").option(\"path\", \"hdfs://localhost:9000/dev/sales/test\").saveAsTable(\"dev.sales_test\")"
   ]
  },
  {
   "cell_type": "code",
   "execution_count": 4,
   "id": "aeeac1b4",
   "metadata": {},
   "outputs": [
    {
     "name": "stdout",
     "output_type": "stream",
     "text": [
      "+-----+--------------------+--------+--------------------+--------+--------+--------+-----------+------------+------+----+\n",
      "| rank|                name|platform|           publisher|na_sales|eu_sales|jp_sales|other_sales|global_sales| genre|year|\n",
      "+-----+--------------------+--------+--------------------+--------+--------+--------+-----------+------------+------+----+\n",
      "|10591|All Kamen Rider: ...|      DS|  Namco Bandai Games|       0|       0|     0.1|          0|         0.1|Action|2012|\n",
      "|15825|Ore wa Shoujo Man...|     PSP|              Giza10|       0|       0|    0.02|          0|        0.02|Action|2012|\n",
      "| 2279|Harvest Moon 3D: ...|     3DS|Marvelous Enterta...|    0.41|    0.17|    0.29|       0.05|        0.91|Action|2012|\n",
      "| 5487|Medal of Honor: W...|      PC|     Electronic Arts|    0.14|    0.15|       0|       0.04|        0.33|Action|2012|\n",
      "| 2975|Kirby's Dream Col...|     Wii|            Nintendo|    0.34|       0|    0.33|       0.02|        0.68|Action|2012|\n",
      "|11139|Jikkyou Powerful ...|     PSV|Konami Digital En...|       0|       0|    0.09|          0|        0.09|Action|2012|\n",
      "|12065|   Tank! Tank! Tank!|    WiiU|  Namco Bandai Games|    0.02|    0.01|    0.05|          0|        0.07|Action|2012|\n",
      "| 2019|Epic Mickey 2: Th...|     Wii|Disney Interactiv...|    0.72|    0.23|       0|       0.08|        1.03|Action|2012|\n",
      "|15400|Arcana Famiglia: ...|     PSP|             Comfort|       0|       0|    0.02|          0|        0.02|Action|2012|\n",
      "| 5201|Assassin's Creed III|    WiiU|             Ubisoft|    0.19|    0.13|       0|       0.03|        0.36|Action|2012|\n",
      "|15929|   Storm Lover Kai!!|     PSP|         D3Publisher|       0|       0|    0.02|          0|        0.02|Action|2012|\n",
      "| 1855|LEGO The Lord of ...|     PS3|Warner Bros. Inte...|    0.36|    0.53|       0|       0.21|         1.1|Action|2012|\n",
      "|16488|Koi Sentai Love &...|     PSP|            Broccoli|       0|       0|    0.01|          0|        0.01|Action|2012|\n",
      "| 9094|               Okami|     PS3|              Capcom|       0|       0|    0.14|          0|        0.14|Action|2012|\n",
      "|15374|Jewel Link: Galac...|      DS|  Avanquest Software|       0|    0.02|       0|          0|        0.02|Action|2012|\n",
      "| 3852|PlayStation All-S...|     PSV|Sony Computer Ent...|    0.26|    0.15|    0.01|        0.1|        0.52|Action|2012|\n",
      "| 9146|Your Shape: Fitne...|    WiiU|             Ubisoft|    0.06|    0.07|       0|       0.01|        0.14|Action|2012|\n",
      "|10858|Ouchi Mainichi Ta...|     3DS|  Namco Bandai Games|       0|       0|    0.09|          0|        0.09|Action|2012|\n",
      "| 6709|  Hitman: Absolution|      PC|         Square Enix|    0.03|    0.17|       0|       0.04|        0.25|Action|2012|\n",
      "|14170| Deer Drive: Legends|     3DS|Maximum Family Games|    0.03|       0|       0|          0|        0.03|Action|2012|\n",
      "+-----+--------------------+--------+--------------------+--------+--------+--------+-----------+------------+------+----+\n",
      "only showing top 20 rows\n",
      "\n"
     ]
    }
   ],
   "source": [
    "df = spark.sql(\"select * from dev.sales_test\")\n",
    "df.show()"
   ]
  },
  {
   "cell_type": "code",
   "execution_count": null,
   "id": "c4c4e0be",
   "metadata": {},
   "outputs": [],
   "source": []
  }
 ],
 "metadata": {
  "kernelspec": {
   "display_name": "Python 3",
   "language": "python",
   "name": "python3"
  },
  "language_info": {
   "codemirror_mode": {
    "name": "ipython",
    "version": 3
   },
   "file_extension": ".py",
   "mimetype": "text/x-python",
   "name": "python",
   "nbconvert_exporter": "python",
   "pygments_lexer": "ipython3",
   "version": "3.12.7"
  }
 },
 "nbformat": 4,
 "nbformat_minor": 5
}
